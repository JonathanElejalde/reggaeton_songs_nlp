{
 "metadata": {
  "language_info": {
   "codemirror_mode": {
    "name": "ipython",
    "version": 3
   },
   "file_extension": ".py",
   "mimetype": "text/x-python",
   "name": "python",
   "nbconvert_exporter": "python",
   "pygments_lexer": "ipython3",
   "version": "3.8.4-final"
  },
  "orig_nbformat": 2,
  "kernelspec": {
   "name": "python3",
   "display_name": "Python 3",
   "language": "python"
  }
 },
 "nbformat": 4,
 "nbformat_minor": 2,
 "cells": [
  {
   "cell_type": "code",
   "execution_count": 1,
   "metadata": {},
   "outputs": [],
   "source": [
    "import pandas as pd"
   ]
  },
  {
   "cell_type": "code",
   "execution_count": 2,
   "metadata": {},
   "outputs": [
    {
     "output_type": "execute_result",
     "data": {
      "text/plain": [
       "                   song_name     artist  \\\n",
       "0         Te quedas o te vas  Nicky Jam   \n",
       "1                    Sola 25      Anuel   \n",
       "2  Pensando en ti part wisin      Anuel   \n",
       "3            Desperte sin ti     Noriel   \n",
       "4                        NaN     Makano   \n",
       "\n",
       "                                              lyrics  sexual_content  \\\n",
       "0  Ya ni sé lo que te está pasando\\r\\nSiento que ...              -1   \n",
       "1  Real hasta la muerte baby\\r\\nWelcome to the re...              -1   \n",
       "2  Bebé, Real Hasta La Muerte, baby\\r\\nAnuel\\r\\nW...              -1   \n",
       "3  Desperté sin ti (sin ti)\\r\\nLa casa se me vino...              -1   \n",
       "4  Tú y yo; Un ramo de imagines,\\r\\ntú y yo; Una ...              -1   \n",
       "\n",
       "   women_denigration  \n",
       "0                 -1  \n",
       "1                 -1  \n",
       "2                 -1  \n",
       "3                 -1  \n",
       "4                 -1  "
      ],
      "text/html": "<div>\n<style scoped>\n    .dataframe tbody tr th:only-of-type {\n        vertical-align: middle;\n    }\n\n    .dataframe tbody tr th {\n        vertical-align: top;\n    }\n\n    .dataframe thead th {\n        text-align: right;\n    }\n</style>\n<table border=\"1\" class=\"dataframe\">\n  <thead>\n    <tr style=\"text-align: right;\">\n      <th></th>\n      <th>song_name</th>\n      <th>artist</th>\n      <th>lyrics</th>\n      <th>sexual_content</th>\n      <th>women_denigration</th>\n    </tr>\n  </thead>\n  <tbody>\n    <tr>\n      <th>0</th>\n      <td>Te quedas o te vas</td>\n      <td>Nicky Jam</td>\n      <td>Ya ni sé lo que te está pasando\\r\\nSiento que ...</td>\n      <td>-1</td>\n      <td>-1</td>\n    </tr>\n    <tr>\n      <th>1</th>\n      <td>Sola 25</td>\n      <td>Anuel</td>\n      <td>Real hasta la muerte baby\\r\\nWelcome to the re...</td>\n      <td>-1</td>\n      <td>-1</td>\n    </tr>\n    <tr>\n      <th>2</th>\n      <td>Pensando en ti part wisin</td>\n      <td>Anuel</td>\n      <td>Bebé, Real Hasta La Muerte, baby\\r\\nAnuel\\r\\nW...</td>\n      <td>-1</td>\n      <td>-1</td>\n    </tr>\n    <tr>\n      <th>3</th>\n      <td>Desperte sin ti</td>\n      <td>Noriel</td>\n      <td>Desperté sin ti (sin ti)\\r\\nLa casa se me vino...</td>\n      <td>-1</td>\n      <td>-1</td>\n    </tr>\n    <tr>\n      <th>4</th>\n      <td>NaN</td>\n      <td>Makano</td>\n      <td>Tú y yo; Un ramo de imagines,\\r\\ntú y yo; Una ...</td>\n      <td>-1</td>\n      <td>-1</td>\n    </tr>\n  </tbody>\n</table>\n</div>"
     },
     "metadata": {},
     "execution_count": 2
    }
   ],
   "source": [
    "df = pd.read_csv('..\\data\\lyrics.csv')\n",
    "df.head()"
   ]
  },
  {
   "cell_type": "code",
   "execution_count": 3,
   "metadata": {},
   "outputs": [
    {
     "output_type": "execute_result",
     "data": {
      "text/plain": [
       "                   song_name     artist  \\\n",
       "0         Te quedas o te vas  Nicky Jam   \n",
       "1                    Sola 25      Anuel   \n",
       "2  Pensando en ti part wisin      Anuel   \n",
       "3            Desperte sin ti     Noriel   \n",
       "4                        NaN     Makano   \n",
       "\n",
       "                                              lyrics  sexual_content  \\\n",
       "0  Ya ni sé lo que te está pasando\\r\\nSiento que ...              -1   \n",
       "1  Real hasta la muerte baby\\r\\nWelcome to the re...              -1   \n",
       "2  Bebé, Real Hasta La Muerte, baby\\r\\nAnuel\\r\\nW...              -1   \n",
       "3  Desperté sin ti (sin ti)\\r\\nLa casa se me vino...              -1   \n",
       "4  Tú y yo; Un ramo de imagines,\\r\\ntú y yo; Una ...              -1   \n",
       "\n",
       "   women_denigration  drugs  \n",
       "0                 -1     -1  \n",
       "1                 -1     -1  \n",
       "2                 -1     -1  \n",
       "3                 -1     -1  \n",
       "4                 -1     -1  "
      ],
      "text/html": "<div>\n<style scoped>\n    .dataframe tbody tr th:only-of-type {\n        vertical-align: middle;\n    }\n\n    .dataframe tbody tr th {\n        vertical-align: top;\n    }\n\n    .dataframe thead th {\n        text-align: right;\n    }\n</style>\n<table border=\"1\" class=\"dataframe\">\n  <thead>\n    <tr style=\"text-align: right;\">\n      <th></th>\n      <th>song_name</th>\n      <th>artist</th>\n      <th>lyrics</th>\n      <th>sexual_content</th>\n      <th>women_denigration</th>\n      <th>drugs</th>\n    </tr>\n  </thead>\n  <tbody>\n    <tr>\n      <th>0</th>\n      <td>Te quedas o te vas</td>\n      <td>Nicky Jam</td>\n      <td>Ya ni sé lo que te está pasando\\r\\nSiento que ...</td>\n      <td>-1</td>\n      <td>-1</td>\n      <td>-1</td>\n    </tr>\n    <tr>\n      <th>1</th>\n      <td>Sola 25</td>\n      <td>Anuel</td>\n      <td>Real hasta la muerte baby\\r\\nWelcome to the re...</td>\n      <td>-1</td>\n      <td>-1</td>\n      <td>-1</td>\n    </tr>\n    <tr>\n      <th>2</th>\n      <td>Pensando en ti part wisin</td>\n      <td>Anuel</td>\n      <td>Bebé, Real Hasta La Muerte, baby\\r\\nAnuel\\r\\nW...</td>\n      <td>-1</td>\n      <td>-1</td>\n      <td>-1</td>\n    </tr>\n    <tr>\n      <th>3</th>\n      <td>Desperte sin ti</td>\n      <td>Noriel</td>\n      <td>Desperté sin ti (sin ti)\\r\\nLa casa se me vino...</td>\n      <td>-1</td>\n      <td>-1</td>\n      <td>-1</td>\n    </tr>\n    <tr>\n      <th>4</th>\n      <td>NaN</td>\n      <td>Makano</td>\n      <td>Tú y yo; Un ramo de imagines,\\r\\ntú y yo; Una ...</td>\n      <td>-1</td>\n      <td>-1</td>\n      <td>-1</td>\n    </tr>\n  </tbody>\n</table>\n</div>"
     },
     "metadata": {},
     "execution_count": 3
    }
   ],
   "source": [
    "# create the new columns\n",
    "df['sexual_content'] = -1\n",
    "df['women_denigration'] = -1\n",
    "df['drugs'] = -1\n",
    "df.head()"
   ]
  },
  {
   "source": [
    "# Understanding the new colums\n",
    "\n",
    "These new columns are the ones that we are going to use as target values in our nlp classification tasks.\n",
    "\n",
    "### In the sexual_content column we are going to classify the lyrics as: 0=no_sexual_content, 1=explicit, 2=implicit\n",
    "### Then, the women_denigration and drugs column are going to be a binary classification task where 0 is for no and 1 for yes.\n",
    "\n",
    "\n"
   ],
   "cell_type": "markdown",
   "metadata": {}
  },
  {
   "cell_type": "code",
   "execution_count": 4,
   "metadata": {},
   "outputs": [],
   "source": [
    "df.to_csv('..\\data\\lyrics.csv', index=False)"
   ]
  },
  {
   "cell_type": "code",
   "execution_count": null,
   "metadata": {},
   "outputs": [],
   "source": []
  }
 ]
}